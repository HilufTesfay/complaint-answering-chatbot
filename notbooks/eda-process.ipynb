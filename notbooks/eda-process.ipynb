{
 "cells": [
  {
   "cell_type": "markdown",
   "id": "9359159b",
   "metadata": {},
   "source": [
    "## perform basic EDA"
   ]
  },
  {
   "cell_type": "code",
   "execution_count": null,
   "id": "22f6c1f7",
   "metadata": {},
   "outputs": [
    {
     "name": "stderr",
     "output_type": "stream",
     "text": [
      "2025-08-05 14:46:16,990 - INFO - src.eda.eda - Starting RAG data preparation\n",
      "2025-08-05 14:47:20,096 - INFO - src.eda.eda - Data loaded successfully. Shape: (9609797, 4)\n"
     ]
    }
   ],
   "source": [
    "import sys\n",
    "from pathlib import Path\n",
    "project_root = Path.cwd().parent \n",
    "sys.path.append(str(project_root))\n",
    "import pandas as pd\n",
    "from src.eda.eda import  prepare_rag_data\n",
    "data_path = (project_root / \"data\" / \"raw\" / \"complaints.csv\")\n",
    "\n",
    "cleaned_data = prepare_rag_data(data_path)"
   ]
  }
 ],
 "metadata": {
  "kernelspec": {
   "display_name": "venv",
   "language": "python",
   "name": "python3"
  },
  "language_info": {
   "codemirror_mode": {
    "name": "ipython",
    "version": 3
   },
   "file_extension": ".py",
   "mimetype": "text/x-python",
   "name": "python",
   "nbconvert_exporter": "python",
   "pygments_lexer": "ipython3",
   "version": "3.13.5"
  }
 },
 "nbformat": 4,
 "nbformat_minor": 5
}
